{
 "cells": [
  {
   "cell_type": "code",
   "execution_count": 10,
   "metadata": {},
   "outputs": [],
   "source": [
    "import numpy as np\n",
    "from matplotlib import pyplot as plt\n",
    "import drehung"
   ]
  },
  {
   "cell_type": "code",
   "execution_count": 54,
   "metadata": {},
   "outputs": [],
   "source": [
    "SAMPLE_SIZE=50\n",
    "\n",
    "VOLUME_SAMPLE=int(1e5)"
   ]
  },
  {
   "cell_type": "code",
   "execution_count": 55,
   "metadata": {},
   "outputs": [],
   "source": [
    "sample=[]\n",
    "while len(sample)<SAMPLE_SIZE:\n",
    "    sample_new=np.ones((4,4))-2*np.random.random((4,4))\n",
    "    if not all([np.linalg.norm(i)<1 for i in sample_new]):\n",
    "        continue\n",
    "    sample.append([i/np.linalg.norm(i) for i in sample_new])"
   ]
  },
  {
   "cell_type": "code",
   "execution_count": null,
   "metadata": {},
   "outputs": [],
   "source": [
    "def tetra(x):\n",
    "    return np.array([[1,0,0,0],\n",
    "                     [x,np.sqrt(1-x**2)],\n",
    "                     [],\n",
    "                     []])"
   ]
  },
  {
   "cell_type": "code",
   "execution_count": 56,
   "metadata": {},
   "outputs": [],
   "source": [
    "volumes=[]\n",
    "pointinesses=[]\n",
    "for tetra in sample:\n",
    "    pointsIn=0\n",
    "    \n",
    "    for _ in range(VOLUME_SAMPLE):\n",
    "        point=np.ones((1,4))\n",
    "        while np.linalg.norm(point)>1:\n",
    "            point=np.ones((1,4))-2*np.random.random((1,4))\n",
    "        point/=np.linalg.norm(point)\n",
    "        inside=True\n",
    "        for i in range(len(tetra)):\n",
    "            vecs=np.copy(tetra)\n",
    "            a=np.copy(vecs[3])\n",
    "            vecs[3]=np.copy(vecs[i])\n",
    "            vecs[i]=a\n",
    "            vecs=drehung.orthonormalisierung(vecs)\n",
    "            if(point@vecs[3]<0):\n",
    "                inside=False\n",
    "                break\n",
    "        pointsIn+=inside\n",
    "    volume=pointsIn/VOLUME_SAMPLE\n",
    "    pointiness=8*np.pi\n",
    "    for p1 in range(4):\n",
    "        for p2 in range(4):\n",
    "            if p1==p2:\n",
    "                continue\n",
    "            p3=(p2+1)%4\n",
    "            if p3==p1:\n",
    "                p3=(p3+1)%4\n",
    "            vec1=tetra[p2]-tetra[p1]*tetra[p2]@tetra[p1]\n",
    "            vec1/=np.linalg.norm(vec1)\n",
    "            vec2=tetra[p3]-tetra[p1]*tetra[p3]@tetra[p1]\n",
    "            vec2/=np.linalg.norm(vec2)\n",
    "            angle=np.acos(vec1@vec2)\n",
    "            pointiness-=angle\n",
    "    volumes.append(volume)\n",
    "    pointinesses.append(pointiness)\n"
   ]
  },
  {
   "cell_type": "code",
   "execution_count": 38,
   "metadata": {},
   "outputs": [
    {
     "data": {
      "text/plain": [
       "array([[ 0.12308642,  0.39914314,  0.66365056, -0.33776301]])"
      ]
     },
     "execution_count": 38,
     "metadata": {},
     "output_type": "execute_result"
    }
   ],
   "source": [
    "point=np.ones((1,4))\n",
    "while np.linalg.norm(point)>1:\n",
    "    point=np.ones((1,4))-2*np.random.random((1,4))\n",
    "point"
   ]
  },
  {
   "cell_type": "code",
   "execution_count": 57,
   "metadata": {},
   "outputs": [
    {
     "data": {
      "text/plain": [
       "<matplotlib.collections.PathCollection at 0x7f92a02d2ab0>"
      ]
     },
     "execution_count": 57,
     "metadata": {},
     "output_type": "execute_result"
    },
    {
     "data": {
      "image/png": "[encoded data removed]",
      "text/plain": [
       "<Figure size 640x480 with 1 Axes>"
      ]
     },
     "metadata": {},
     "output_type": "display_data"
    }
   ],
   "source": [
    "plt.scatter(volumes,pointinesses)"
   ]
  }
 ],
 "metadata": {
  "kernelspec": {
   "display_name": "Python 3",
   "language": "python",
   "name": "python3"
  },
  "language_info": {
   "codemirror_mode": {
    "name": "ipython",
    "version": 3
   },
   "file_extension": ".py",
   "mimetype": "text/x-python",
   "name": "python",
   "nbconvert_exporter": "python",
   "pygments_lexer": "ipython3",
   "version": "3.12.6"
  }
 },
 "nbformat": 4,
 "nbformat_minor": 2
}
