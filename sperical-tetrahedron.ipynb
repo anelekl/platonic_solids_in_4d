{
 "cells": [
  {
   "cell_type": "code",
   "execution_count": 271,
   "metadata": {},
   "outputs": [],
   "source": [
    "import numpy as np\n",
    "from matplotlib import pyplot as plt\n",
    "import drehung"
   ]
  },
  {
   "cell_type": "code",
   "execution_count": 272,
   "metadata": {},
   "outputs": [],
   "source": [
    "SAMPLE_SIZE=40\n",
    "\n",
    "VOLUME_SAMPLE=int(5e4)"
   ]
  },
  {
   "cell_type": "code",
   "execution_count": 273,
   "metadata": {},
   "outputs": [],
   "source": [
    "sample_random=[]\n",
    "while len(sample_random)<SAMPLE_SIZE:\n",
    "    sample_new=np.ones((4,4))-2*np.random.random((4,4))\n",
    "    if not all([np.linalg.norm(i)<1 for i in sample_new]):\n",
    "        continue\n",
    "    sample_random.append([i/np.linalg.norm(i) for i in sample_new])"
   ]
  },
  {
   "cell_type": "code",
   "execution_count": 274,
   "metadata": {},
   "outputs": [],
   "source": [
    "def make_tetraeder(winkel):\n",
    "    a = np.cos(winkel)\n",
    "    b_2 = np.sqrt(1 - a**2)\n",
    "    b_3_4 = (a - a**2)/b_2\n",
    "    c_3 = np.sqrt(1 - a**2 - b_3_4**2)\n",
    "    c_4 = (a - a**2 - b_3_4**2) / c_3\n",
    "    d_4 = np.sqrt(1 - a**2 - b_3_4**2 - c_4**2 )\n",
    "\n",
    "    normal_vectors= [np.array([1,0,0,0]), np.array([a, b_2, 0,0]), np.array([a, b_3_4, c_3,0 ]), np.array([a, b_3_4, c_4, d_4])]\n",
    "    \n",
    "def tetrahedron(x):\n",
    "    fac=np.sqrt(1-x**2)\n",
    "    return np.array([[np.sqrt(8/9)*fac,0,-fac/3,x],\n",
    "                    [-np.sqrt(2/9)*fac,fac*np.sqrt(2/3),-fac/3,x],\n",
    "                    [-np.sqrt(2/9)*fac,-fac*np.sqrt(2/3),-fac/3,x],\n",
    "                    [0,0,fac,x]])\n",
    "def pointiness(tetra):\n",
    "    pointiness=8*np.pi\n",
    "    for p1 in range(4):\n",
    "        for p2 in range(4):\n",
    "            if p1==p2:\n",
    "                continue\n",
    "            p3=(p2+1)%4\n",
    "            if p3==p1:\n",
    "                p3=(p3+1)%4\n",
    "            vec1=tetra[p2]-tetra[p1]*(tetra[p2]@tetra[p1])\n",
    "            vec1/=np.linalg.norm(vec1)\n",
    "            vec2=tetra[p3]-tetra[p1]*(tetra[p3]@tetra[p1])\n",
    "            vec2/=np.linalg.norm(vec2)\n",
    "            angle=np.acos(vec1@vec2)\n",
    "            pointiness-=angle\n",
    "    return pointiness\n",
    "\n"
   ]
  },
  {
   "cell_type": "code",
   "execution_count": 137,
   "metadata": {},
   "outputs": [
    {
     "name": "stdout",
     "output_type": "stream",
     "text": [
      "[0. 0. 1. 0.]\n",
      "[0. 1. 0. 0.]\n",
      "[ 0.         -0.70710678  0.          0.        ]\n"
     ]
    },
    {
     "data": {
      "text/plain": [
       "np.float64(0.0)"
      ]
     },
     "execution_count": 137,
     "metadata": {},
     "output_type": "execute_result"
    }
   ],
   "source": [
    "tetra=np.array([[1,0,0,0],\n",
    "                [0,0,1,0],\n",
    "                [0,1,0,0],\n",
    "                [-np.sqrt(2)/2,-np.sqrt(2)/2,0,0]])\n",
    "for p in tetra[1:]:\n",
    "    print(p-tetra[0]*(p@tetra[0]))\n",
    "pointiness(tetra)"
   ]
  },
  {
   "cell_type": "code",
   "execution_count": 162,
   "metadata": {},
   "outputs": [],
   "source": [
    "x_sample=[0.1,0.01,0.001]\n",
    "volumes=[]\n",
    "pointinesses=[]\n",
    "for x in x_sample:\n",
    "    tetra=tetrahedron(x)\n",
    "\n",
    "    pointsIn=0\n",
    "        \n",
    "    for _ in range(VOLUME_SAMPLE):\n",
    "        point=np.ones((1,4))\n",
    "        while np.linalg.norm(point)>1:\n",
    "            point=np.ones((1,4))-2*np.random.random((1,4))\n",
    "        point/=np.linalg.norm(point)\n",
    "        inside=True\n",
    "        for i in range(len(tetra)):\n",
    "            vecs=np.copy(tetra)\n",
    "            \n",
    "            a=np.copy(vecs[3])\n",
    "            vecs[3]=np.copy(vecs[i])\n",
    "            vecs[i]=a\n",
    "        \n",
    "            vecs=drehung.orthonormalisierung(vecs)\n",
    "        \n",
    "            if(point@vecs[3]<0):\n",
    "                inside=False\n",
    "                break\n",
    "        pointsIn+=inside\n",
    "    volumes.append(pointsIn/VOLUME_SAMPLE)\n",
    "    pointinesses.append(pointiness(tetra))"
   ]
  },
  {
   "cell_type": "code",
   "execution_count": 275,
   "metadata": {},
   "outputs": [],
   "source": [
    "volumes_random=[]\n",
    "pointinesses_random=[]\n",
    "for tetra in sample_random:\n",
    "    pointsIn=0\n",
    "    \n",
    "    for _ in range(VOLUME_SAMPLE):\n",
    "        point=np.ones((1,4))\n",
    "        while np.linalg.norm(point)>1:\n",
    "            point=np.ones((1,4))-2*np.random.random((1,4))\n",
    "        point/=np.linalg.norm(point)\n",
    "        inside=True\n",
    "        for i in range(len(tetra)):\n",
    "            vecs=np.copy(tetra)\n",
    "            a=np.copy(vecs[3])\n",
    "            vecs[3]=np.copy(vecs[i])\n",
    "            vecs[i]=a\n",
    "            vecs=drehung.orthonormalisierung(vecs)\n",
    "            if(point@vecs[3]<0):\n",
    "                inside=False\n",
    "                break\n",
    "        pointsIn+=inside\n",
    "    volume=pointsIn/VOLUME_SAMPLE\n",
    "    volumes_random.append(volume)\n",
    "    pointinesses_random.append(pointiness(tetra))\n"
   ]
  },
  {
   "cell_type": "code",
   "execution_count": 38,
   "metadata": {},
   "outputs": [
    {
     "data": {
      "text/plain": [
       "array([[ 0.12308642,  0.39914314,  0.66365056, -0.33776301]])"
      ]
     },
     "execution_count": 38,
     "metadata": {},
     "output_type": "execute_result"
    }
   ],
   "source": [
    "point=np.ones((1,4))\n",
    "while np.linalg.norm(point)>1:\n",
    "    point=np.ones((1,4))-2*np.random.random((1,4))\n",
    "point"
   ]
  },
  {
   "cell_type": "code",
   "execution_count": 161,
   "metadata": {},
   "outputs": [
    {
     "data": {
      "text/plain": [
       "<matplotlib.collections.PathCollection at 0x7f92530e5370>"
      ]
     },
     "execution_count": 161,
     "metadata": {},
     "output_type": "execute_result"
    },
    {
     "data": {
      "image/png": "[encoded data removed]",
      "text/plain": [
       "<Figure size 640x480 with 1 Axes>"
      ]
     },
     "metadata": {},
     "output_type": "display_data"
    }
   ],
   "source": [
    "plt.scatter(np.linspace(0,0.5,100),[np.pi/2-4*x for x in np.linspace(0,0.5,100)])\n",
    "plt.scatter(volumes_random,pointinesses_random)\n",
    "\n",
    "plt.scatter(volumes,pointinesses)"
   ]
  },
  {
   "cell_type": "code",
   "execution_count": 182,
   "metadata": {},
   "outputs": [],
   "source": [
    "indices=[]\n",
    "for i in range(100):\n",
    "    if pointinesses_random[i]<=0.3+np.pi/2-4*(volumes_random[i]):\n",
    "        indices.append(i)"
   ]
  },
  {
   "cell_type": "code",
   "execution_count": 186,
   "metadata": {},
   "outputs": [
    {
     "name": "stdout",
     "output_type": "stream",
     "text": [
      "0.7860744091910968\n",
      "1.8629812637102579\n",
      "1.7917434270332404\n",
      "1.4619383431629387\n",
      "1.833397183804176\n",
      "1.5126680029091708\n"
     ]
    }
   ],
   "source": [
    "for i in range(1,4):\n",
    "    for j in range(i):\n",
    "        print(np.linalg.norm(sample_random[22][i]-sample_random[22][j]))"
   ]
  },
  {
   "cell_type": "code",
   "execution_count": 192,
   "metadata": {},
   "outputs": [],
   "source": [
    "basis=drehung.orthonormalisierung([(x-sample_random[22][0]) for x in sample_random[22][1:]])"
   ]
  },
  {
   "cell_type": "code",
   "execution_count": 276,
   "metadata": {},
   "outputs": [
    {
     "name": "stdout",
     "output_type": "stream",
     "text": [
      "2 0.015192368761790163 0.04184712266061888\n",
      "4 0.04482542979242003 0.01263309363339438\n",
      "15 0.060104428937931276 0.00631654681669719\n",
      "18 0.01655886661313144 0.20489298736661507\n",
      "28 0.11537293409156338 0.019344424626135143\n",
      "32 0.0015977040552614744 0.02013399297822229\n"
     ]
    },
    {
     "data": {
      "text/plain": [
       "[<matplotlib.lines.Line2D at 0x7f92640a3c20>]"
      ]
     },
     "execution_count": 276,
     "metadata": {},
     "output_type": "execute_result"
    },
    {
     "data": {
      "image/png": "[encoded data removed]",
      "text/plain": [
       "<Figure size 640x480 with 1 Axes>"
      ]
     },
     "metadata": {},
     "output_type": "display_data"
    }
   ],
   "source": [
    "to_be_plotted=[]\n",
    "for (i,tetra) in enumerate(sample_random):\n",
    "    volume_sphere=2*np.pi**2*volumes_random[i]\n",
    "    volume_euclidean=abs(np.linalg.det((drehung.orthonormalisierung([(x-tetra[0]) for x in tetra[1:]])@np.array([x-tetra[0] for x in tetra[1:]]).T).T))/6\n",
    "    if(volume_euclidean>volume_sphere):\n",
    "        print(i,volume_euclidean-volume_sphere,volume_sphere)\n",
    "    to_be_plotted.append(volume_euclidean)\n",
    "plt.scatter(to_be_plotted,np.array(volumes_random)*2*np.pi**2)\n",
    "plt.plot(np.linspace(0,0.4,10000),np.linspace(0,0.4,10000))"
   ]
  },
  {
   "cell_type": "code",
   "execution_count": 270,
   "metadata": {},
   "outputs": [
    {
     "name": "stdout",
     "output_type": "stream",
     "text": [
      "[[-0.26079676  0.48520429 -0.83264873  0.0570784 ]\n",
      " [-0.42262076  0.42302405  0.80102166  0.02840158]\n",
      " [ 0.86835013 -0.34165189  0.20658712 -0.29421726]\n",
      " [ 0.4959899   0.81971395 -0.13949995 -0.25020556]]\n",
      "[[ 0.4959899   0.81971395 -0.13949995 -0.25020556]\n",
      " [-0.42262076  0.42302405  0.80102166  0.02840158]\n",
      " [ 0.86835013 -0.34165189  0.20658712 -0.29421726]\n",
      " [-0.26079676  0.48520429 -0.83264873  0.0570784 ]]\n"
     ]
    },
    {
     "data": {
      "text/plain": [
       "0.0"
      ]
     },
     "execution_count": 270,
     "metadata": {},
     "output_type": "execute_result"
    }
   ],
   "source": [
    "tetra=sample_random[78]\n",
    "pointsIn=0\n",
    "    \n",
    "for _ in range(int(1e6)):\n",
    "    point=np.ones((1,4))\n",
    "    while np.linalg.norm(point)>1:\n",
    "        point=np.ones((1,4))-2*np.random.random((1,4))\n",
    "    point/=np.linalg.norm(point)\n",
    "    inside=True\n",
    "    for i in range(len(tetra)):\n",
    "        vecs=np.copy(tetra)\n",
    "        a=np.copy(vecs[3])\n",
    "        vecs[3]=np.copy(vecs[i])\n",
    "        vecs[i]=a\n",
    "        vecs=drehung.orthonormalisierung(vecs)\n",
    "        if(point@vecs[3]<0):\n",
    "            inside=False\n",
    "            break\n",
    "    pointsIn+=inside\n",
    "pointsIn/1e6*np.pi**2*2"
   ]
  },
  {
   "cell_type": "code",
   "execution_count": 265,
   "metadata": {},
   "outputs": [],
   "source": [
    "tetra=sample_random[78]"
   ]
  },
  {
   "cell_type": "code",
   "execution_count": 266,
   "metadata": {},
   "outputs": [],
   "source": [
    "basis=drehung.orthonormalisierung([(x-tetra[0]) for x in tetra[1:]])\n",
    "tetra_3d=(drehung.orthonormalisierung([(x-tetra[0]) for x in tetra[1:]])@np.array([x-tetra[0] for x in tetra[1:]]).T).T"
   ]
  },
  {
   "cell_type": "code",
   "execution_count": 268,
   "metadata": {},
   "outputs": [
    {
     "data": {
      "text/plain": [
       "array([[ 1.64309302e+00,  2.27012589e-17, -1.60473187e-17],\n",
       "       [ 9.59491576e-01,  1.49715048e+00, -1.07128255e-16],\n",
       "       [ 6.07343836e-01,  5.50033693e-01,  7.66875361e-01]])"
      ]
     },
     "execution_count": 268,
     "metadata": {},
     "output_type": "execute_result"
    }
   ],
   "source": [
    "tetra_3d"
   ]
  }
 ],
 "metadata": {
  "kernelspec": {
   "display_name": "Python 3",
   "language": "python",
   "name": "python3"
  },
  "language_info": {
   "codemirror_mode": {
    "name": "ipython",
    "version": 3
   },
   "file_extension": ".py",
   "mimetype": "text/x-python",
   "name": "python",
   "nbconvert_exporter": "python",
   "pygments_lexer": "ipython3",
   "version": "3.12.6"
  }
 },
 "nbformat": 4,
 "nbformat_minor": 2
}
