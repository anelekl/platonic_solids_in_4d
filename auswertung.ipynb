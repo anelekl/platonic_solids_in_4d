{
 "cells": [
  {
   "cell_type": "code",
   "execution_count": 2,
   "metadata": {},
   "outputs": [],
   "source": [
    "import numpy as np\n",
    "from drehung import plat_solid"
   ]
  },
  {
   "cell_type": "code",
   "execution_count": 3,
   "metadata": {},
   "outputs": [],
   "source": [
    "iko=plat_solid([3,5])"
   ]
  },
  {
   "cell_type": "code",
   "execution_count": 4,
   "metadata": {},
   "outputs": [],
   "source": [
    "len_kanten=[np.linalg.norm(iko.points[list(a)[0]]-iko.points[list(a)[1]]) for a in iko.higher_order[1]]\n",
    "mid=sum(iko.points)/len(iko.points)\n",
    "dist_mid=[np.linalg.norm(x-mid) for x in iko.points]"
   ]
  },
  {
   "cell_type": "code",
   "execution_count": 5,
   "metadata": {},
   "outputs": [
    {
     "name": "stdout",
     "output_type": "stream",
     "text": [
      "0.9999999999999953\n",
      "1.0000000000000009\n"
     ]
    }
   ],
   "source": [
    "print(min(len_kanten))\n",
    "print(max(len_kanten))\n",
    "e_lk=sum(len_kanten)/len(len_kanten)"
   ]
  },
  {
   "cell_type": "code",
   "execution_count": 6,
   "metadata": {},
   "outputs": [
    {
     "name": "stdout",
     "output_type": "stream",
     "text": [
      "0.9510565162951509\n",
      "0.9510565162951541\n"
     ]
    },
    {
     "data": {
      "text/plain": [
       "np.float64(2.605114844342335)"
      ]
     },
     "execution_count": 6,
     "metadata": {},
     "output_type": "execute_result"
    }
   ],
   "source": [
    "print(min(dist_mid))\n",
    "print(max(dist_mid))\n",
    "e_dm=sum(dist_mid)/len(dist_mid)\n",
    "2*np.pi/iko.angle_in"
   ]
  }
 ],
 "metadata": {
  "kernelspec": {
   "display_name": "Python 3",
   "language": "python",
   "name": "python3"
  },
  "language_info": {
   "codemirror_mode": {
    "name": "ipython",
    "version": 3
   },
   "file_extension": ".py",
   "mimetype": "text/x-python",
   "name": "python",
   "nbconvert_exporter": "python",
   "pygments_lexer": "ipython3",
   "version": "3.11.9"
  }
 },
 "nbformat": 4,
 "nbformat_minor": 2
}
